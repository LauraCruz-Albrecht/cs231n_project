{
 "cells": [
  {
   "cell_type": "code",
   "execution_count": 3,
   "metadata": {},
   "outputs": [],
   "source": [
    "import utils as local_utils\n",
    "import torch\n",
    "import torch.nn as nn\n",
    "#import pytorch_utils\n",
    "import torch.optim as optim\n",
    "import torch.optim as optim\n",
    "import torch.utils.data as DataLoader\n",
    "from torch.utils.data.sampler import SubsetRandomSampler\n",
    "import numpy as np\n",
    "import sys\n",
    "import matplotlib.pyplot as plt\n",
    "from PIL import Image\n",
    "import PIL\n",
    "from importlib import reload\n",
    "import torch.nn.functional as F\n",
    "from torchvision import transforms, utils, models\n",
    "import os, sys\n",
    "from random import shuffle\n",
    "\n",
    "%matplotlib inline"
   ]
  },
  {
   "cell_type": "code",
   "execution_count": 4,
   "metadata": {},
   "outputs": [
    {
     "name": "stdout",
     "output_type": "stream",
     "text": [
      "using device: cpu\n"
     ]
    }
   ],
   "source": [
    "USE_GPU = True\n",
    "IMG_SZ = 224\n",
    "\n",
    "dtype = torch.float32\n",
    "\n",
    "if USE_GPU and torch.cuda.is_available():\n",
    "    device = torch.device('cuda')\n",
    "else:\n",
    "    device = torch.device('cpu')\n",
    "\n",
    "print('using device:', device)"
   ]
  },
  {
   "cell_type": "markdown",
   "metadata": {},
   "source": [
    "## Custom dataset"
   ]
  },
  {
   "cell_type": "code",
   "execution_count": 5,
   "metadata": {},
   "outputs": [],
   "source": [
    "class LandmarksDataset(DataLoader.Dataset):\n",
    "\n",
    "    def __init__(self, src_folder, transform=None):\n",
    "        \"\"\"\n",
    "        Args:\n",
    "            src_folder (string): Directory with all the images.\n",
    "            transform (callable, optional): Optional transform to be applied\n",
    "                on a sample.\n",
    "        \"\"\"\n",
    "        self.filenames = [f for f in os.listdir(src_folder) if os.path.isfile(os.path.join(src_folder, f)) \n",
    "                          and f != '.DS_Store']\n",
    "        self.src_folder = src_folder\n",
    "        self.transform = transform\n",
    "\n",
    "    def __len__(self):\n",
    "        return len(self.filenames)\n",
    "\n",
    "    def __getitem__(self, idx):\n",
    "        img_name = os.path.join(self.src_folder, self.filenames[idx])\n",
    "        \n",
    "        x = Image.open(img_name)\n",
    "\n",
    "        if self.transform:\n",
    "            x = self.transform(x)\n",
    "\n",
    "        imgf = self.filenames[idx]\n",
    "        y = int(imgf[imgf.index('_') + 1 : imgf.index('.')]) # filename format: [id_label.jpg]\n",
    "        sample = (x, y)\n",
    "        return sample"
   ]
  },
  {
   "cell_type": "code",
   "execution_count": 6,
   "metadata": {},
   "outputs": [],
   "source": [
    "def get_loader(directory, batch_size):\n",
    "    '''\n",
    "    takes in directory for train and val data, and returns loaders for both\n",
    "    applies normalization:\n",
    "      1. convert values to range 0-1\n",
    "      2. set mean, std to those specified in pytorch pretrained models (https://pytorch.org/docs/master/torchvision/models.html)\n",
    "    \n",
    "    usage:\n",
    "        loader_train = get_loader(train_directory, batch_sz)\n",
    "        loader_val = get_loader(val_directory, batch_sz)\n",
    "    '''\n",
    "    normalize = transforms.Normalize(mean=[0.485, 0.456, 0.406],\n",
    "                                      std=[0.229, 0.224, 0.225])\n",
    "\n",
    "    preprocess = transforms.Compose([\n",
    "       transforms.ToTensor(),  # converts to range 0-1\n",
    "       normalize               # sets mean, std\n",
    "    ])\n",
    "    \n",
    "    dset = LandmarksDataset(directory, transform=preprocess)\n",
    "    loader = DataLoader.DataLoader(dataset=dset, batch_size=batch_size)\n",
    "    \n",
    "    print ('dataset size', len(dset))\n",
    "    return loader"
   ]
  },
  {
   "cell_type": "markdown",
   "metadata": {},
   "source": [
    "## Training and accuracy checking"
   ]
  },
  {
   "cell_type": "code",
   "execution_count": 7,
   "metadata": {},
   "outputs": [],
   "source": [
    "def check_accuracy(loader, model): \n",
    "    num_correct = 0\n",
    "    num_samples = 0\n",
    "    model.eval()  # set model to evaluation mode\n",
    "    with torch.no_grad():\n",
    "        for t, (x, y) in enumerate(loader):\n",
    "            x = x.to(device=device, dtype=dtype)  # move to device, e.g. GPU\n",
    "            y = y.to(device=device, dtype=torch.long)\n",
    "            scores = model(x)\n",
    "            _, preds = scores.max(1)\n",
    "            num_correct += (preds == y).sum()\n",
    "            num_samples += preds.size(0)\n",
    "\n",
    "        acc = float(num_correct) / num_samples\n",
    "        print('Got %d / %d correct (%.2f)' % (num_correct, num_samples, 100 * acc))\n",
    "        return acc"
   ]
  },
  {
   "cell_type": "code",
   "execution_count": 8,
   "metadata": {},
   "outputs": [],
   "source": [
    "def train(model, optimizer, loader_train, epochs=1, stop=1):\n",
    "    \"\"\"\n",
    "    Inputs:\n",
    "    - model: A PyTorch Module giving the model to train.\n",
    "    - optimizer: An Optimizer object we will use to train the model\n",
    "    - epochs: (Optional) A Python integer giving the number of epochs to train for\n",
    "    \n",
    "    Returns: Nothing, but prints model accuracies during training.\n",
    "    \"\"\"\n",
    "    model = model.to(device=device)  # move the model parameters to CPU/GPU\n",
    "    iters = []\n",
    "    losses = []\n",
    "    for e in range(epochs):\n",
    "        print ('epoch', e)\n",
    "        \n",
    "        num_iters = len(loader_train)\n",
    "        want_print = 10\n",
    "        print_every = 50\n",
    "        for t, (x, y) in enumerate(loader_train):\n",
    "            model.train()  # put model to training mode\n",
    "            x = x.to(device=device, dtype=dtype)  # move to device, e.g. GPU\n",
    "            y = y.to(device=device, dtype=torch.long)\n",
    "\n",
    "            scores = model(x)\n",
    "            loss = F.cross_entropy(scores, y)\n",
    "\n",
    "            # Zero out all of the gradients for the variables which the optimizer\n",
    "            # will update.\n",
    "            optimizer.zero_grad()\n",
    "\n",
    "            # This is the backwards pass: compute the gradient of the loss with\n",
    "            # respect to each  parameter of the model.\n",
    "        \n",
    "            loss.backward()\n",
    "\n",
    "            # Actually update the parameters of the model using the gradients\n",
    "            # computed by the backwards pass.\n",
    "            optimizer.step()\n",
    "\n",
    "            if t % print_every == 0:\n",
    "                print(' Iteration %d out of %d, loss = %.4f' % (t, num_iters, loss.item()))\n",
    "                iters.append(t)\n",
    "                losses.append(loss.item())\n",
    "            \n",
    "            # break early if we only want to use a part of the dataset (for hyperparameter tuning)\n",
    "            if t > stop * num_iters:\n",
    "                break\n",
    "\n",
    "    return iters, losses"
   ]
  },
  {
   "cell_type": "markdown",
   "metadata": {},
   "source": [
    "## Plotting"
   ]
  },
  {
   "cell_type": "code",
   "execution_count": 36,
   "metadata": {},
   "outputs": [],
   "source": [
    "def plot_loss_data(plotting_data, title_str):\n",
    "    '''\n",
    "    Plots loss vs. iterations for the various hyperparameter runs\n",
    "    '''\n",
    "    for plot_data in plotting_data:\n",
    "        iters, losses, label = plot_data        \n",
    "        plt.plot(iters, losses, label=label)\n",
    "    plt.title(title_str)\n",
    "    plt.xlabel('Iterations')\n",
    "    plt.ylabel('Loss')\n",
    "    plt.legend(loc=(1.4, 0.25))\n",
    "    \n",
    "    # set figsize\n",
    "    plt.rcParams[\"figure.figsize\"] = (20, 15)\n",
    "    \n",
    "    plt.plot()"
   ]
  },
  {
   "cell_type": "markdown",
   "metadata": {},
   "source": [
    "# Models!"
   ]
  },
  {
   "cell_type": "markdown",
   "metadata": {},
   "source": [
    "### Resnet"
   ]
  },
  {
   "cell_type": "code",
   "execution_count": null,
   "metadata": {},
   "outputs": [],
   "source": [
    "# referenced https://www.kaggle.com/gntoni/using-pytorch-resnet\n",
    "\n",
    "# hyperparam tuning on lr and batch sz\n",
    "lr_vals = [0.0001, 0.001, 0.01]\n",
    "batch_sizes = [10, 20, 50, 80]\n",
    "\n",
    "train_directory = '../data/data_200c/train'\n",
    "val_directory = '../data/data_200c/val'\n",
    "\n",
    "momentum = 0.9\n",
    "num_classes = 200\n",
    "\n",
    "best_lr = None\n",
    "best_batch_size = None\n",
    "best_model = None\n",
    "best_loss = float('inf')\n",
    "plotting_data = []\n",
    "\n",
    "for batch_size in batch_sizes:\n",
    "    loader_train = get_loader(train_directory, batch_size)\n",
    "    for lr in lr_vals:\n",
    "        # set up resnet model with custom FC layer to predict our number of classes\n",
    "        model = models.resnet18(pretrained=True)\n",
    "        num_ftrs = model.fc.in_features\n",
    "        model.fc = nn.Linear(num_ftrs, num_classes)\n",
    "        \n",
    "        # Observe that all parameters are being optimized\n",
    "        optimizer = optim.SGD(model.parameters(), lr=lr, momentum=momentum)\n",
    "\n",
    "        num_epochs = 1\n",
    "        iters, losses = train(model, optimizer, loader_train, num_epochs, 0.20) # stopping early to save time\n",
    "        \n",
    "        s = 'lr: %f, batch sz: %d' % (lr, batch_size)\n",
    "        plotting_data.append((iters, losses, s))\n",
    "        \n",
    "        final_loss = losses[-1]\n",
    "        print('got a loss of ', final_loss, ' for parameters ', 'batch size: ', batch_size, ' lr: ', lr)\n",
    "        if final_loss < best_loss:\n",
    "            best_loss = final_loss\n",
    "            best_model = model\n",
    "            best_lr = lr\n",
    "            best_batch_size = batch_size\n",
    "            \n",
    "print(\"best values \", best_loss, best_lr, best_batch_size)"
   ]
  },
  {
   "cell_type": "markdown",
   "metadata": {},
   "source": [
    "Check accuracies"
   ]
  },
  {
   "cell_type": "code",
   "execution_count": null,
   "metadata": {},
   "outputs": [],
   "source": [
    "loader_val = get_loader(val_directory, best_batch_size)\n",
    "print ('validation accuracy is ', check_accuracy(loader_val, best_model))\n",
    "loader_train = get_loader(train_directory, best_batch_size)\n",
    "print ('training accuracy is ', check_accuracy(loader_train, best_model))"
   ]
  },
  {
   "cell_type": "markdown",
   "metadata": {},
   "source": [
    "Plot loss curves"
   ]
  },
  {
   "cell_type": "code",
   "execution_count": null,
   "metadata": {},
   "outputs": [],
   "source": [
    "plot_data(plotting_data, title_str=\"Hyperparameter tuning for Resnet18\")"
   ]
  },
  {
   "cell_type": "markdown",
   "metadata": {},
   "source": [
    "### Squeezenet"
   ]
  },
  {
   "cell_type": "code",
   "execution_count": 10,
   "metadata": {},
   "outputs": [
    {
     "name": "stdout",
     "output_type": "stream",
     "text": [
      "dataset size 8\n",
      "epoch 0\n"
     ]
    },
    {
     "name": "stderr",
     "output_type": "stream",
     "text": [
      "/home/shared/anaconda3/lib/python3.6/site-packages/torchvision-0.2.0-py3.6.egg/torchvision/models/squeezenet.py:94: UserWarning: nn.init.kaiming_uniform is now deprecated in favor of nn.init.kaiming_uniform_.\n",
      "/home/shared/anaconda3/lib/python3.6/site-packages/torchvision-0.2.0-py3.6.egg/torchvision/models/squeezenet.py:92: UserWarning: nn.init.normal is now deprecated in favor of nn.init.normal_.\n"
     ]
    },
    {
     "name": "stdout",
     "output_type": "stream",
     "text": [
      " Iteration 0 out of 1, loss = 5.6461\n",
      "got a loss of  5.6461358070373535  for parameters  batch size:  10  lr:  0.0001\n",
      "epoch 0\n",
      " Iteration 0 out of 1, loss = 6.1103\n",
      "got a loss of  6.110317230224609  for parameters  batch size:  10  lr:  0.001\n",
      "epoch 0\n",
      " Iteration 0 out of 1, loss = 6.3672\n",
      "got a loss of  6.367238521575928  for parameters  batch size:  10  lr:  0.01\n",
      "dataset size 8\n",
      "epoch 0\n",
      " Iteration 0 out of 1, loss = 6.4443\n",
      "got a loss of  6.444299221038818  for parameters  batch size:  20  lr:  0.0001\n",
      "epoch 0\n",
      " Iteration 0 out of 1, loss = 5.6415\n",
      "got a loss of  5.64151668548584  for parameters  batch size:  20  lr:  0.001\n",
      "epoch 0\n",
      " Iteration 0 out of 1, loss = 6.2063\n",
      "got a loss of  6.206313133239746  for parameters  batch size:  20  lr:  0.01\n",
      "dataset size 8\n",
      "epoch 0\n",
      " Iteration 0 out of 1, loss = 5.9762\n",
      "got a loss of  5.976180076599121  for parameters  batch size:  50  lr:  0.0001\n",
      "epoch 0\n",
      " Iteration 0 out of 1, loss = 6.1902\n",
      "got a loss of  6.190211296081543  for parameters  batch size:  50  lr:  0.001\n",
      "epoch 0\n",
      " Iteration 0 out of 1, loss = 6.1532\n",
      "got a loss of  6.153164863586426  for parameters  batch size:  50  lr:  0.01\n",
      "dataset size 8\n",
      "epoch 0\n",
      " Iteration 0 out of 1, loss = 6.0144\n",
      "got a loss of  6.01438045501709  for parameters  batch size:  80  lr:  0.0001\n",
      "epoch 0\n",
      " Iteration 0 out of 1, loss = 6.0063\n",
      "got a loss of  6.006304740905762  for parameters  batch size:  80  lr:  0.001\n",
      "epoch 0\n",
      " Iteration 0 out of 1, loss = 6.6357\n",
      "got a loss of  6.635676860809326  for parameters  batch size:  80  lr:  0.01\n",
      "best values  5.64151668548584 0.001 20\n"
     ]
    }
   ],
   "source": [
    "# hyperparam tuning on lr and batch sz\n",
    "lr_vals = [0.0001, 0.001, 0.01]\n",
    "batch_sizes = [10, 20, 50, 80]\n",
    "\n",
    "#train_directory = '../data/data_200c/train'\n",
    "#val_directory = '../data/data_200c/val'\n",
    "train_directory = '../data/data_200c/mini'\n",
    "val_directory = '../data/data_200c/mini'\n",
    "\n",
    "momentum = 0.9\n",
    "num_classes = 200\n",
    "\n",
    "best_lr = None\n",
    "best_batch_size = None\n",
    "best_model = None\n",
    "best_loss = float('inf')\n",
    "plotting_data = []\n",
    "\n",
    "for batch_size in batch_sizes:\n",
    "    loader_train = get_loader(train_directory, batch_size)\n",
    "    for lr in lr_vals:\n",
    "        # set up squeezenet model with custom final conv layer to predict our number of classes\n",
    "        model = models.squeezenet1_0(pretrained=True)\n",
    "        final_conv = nn.Conv2d(512, num_classes, kernel_size=1)\n",
    "        model.num_classes = num_classes\n",
    "        model.classifier = nn.Sequential(\n",
    "                    nn.Dropout(p=0.5),\n",
    "                    final_conv,\n",
    "                    nn.ReLU(inplace=True),\n",
    "                    nn.AvgPool2d(13))\n",
    "        \n",
    "        # Observe that all parameters are being optimized\n",
    "        optimizer = optim.SGD(model.parameters(), lr=lr, momentum=momentum)\n",
    "\n",
    "        num_epochs = 1\n",
    "        iters, losses = train(model, optimizer, loader_train, num_epochs, 0.20) # stopping early to save time\n",
    "        \n",
    "        s = 'lr: %f, batch sz: %d' % (lr, batch_size)\n",
    "        plotting_data.append((iters, losses, s))\n",
    "        \n",
    "        final_loss = losses[-1]\n",
    "        print('got a loss of ', final_loss, ' for parameters ', 'batch size: ', batch_size, ' lr: ', lr)\n",
    "        if final_loss < best_loss:\n",
    "            best_loss = final_loss\n",
    "            best_model = model\n",
    "            best_lr = lr\n",
    "            best_batch_size = batch_size\n",
    "print (' ')          \n",
    "print(\"best loss: \", best_loss, 'best lr', best_lr, 'best batch sz', best_batch_size)"
   ]
  },
  {
   "cell_type": "markdown",
   "metadata": {},
   "source": [
    "Check accuracies"
   ]
  },
  {
   "cell_type": "code",
   "execution_count": 11,
   "metadata": {},
   "outputs": [
    {
     "name": "stdout",
     "output_type": "stream",
     "text": [
      "dataset size 8\n",
      "dataset size 8\n",
      "Got 1 / 8 correct (12.50)\n",
      "validation accuracy is  0.125\n",
      "Got 1 / 8 correct (12.50)\n",
      "training accuracy is  0.125\n"
     ]
    }
   ],
   "source": [
    "loader_val = get_loader(val_directory, best_batch_size)\n",
    "loader_train = get_loader(train_directory, best_batch_size)\n",
    "print ('validation accuracy is ', check_accuracy(loader_val, best_model))\n",
    "print ('training accuracy is ', check_accuracy(loader_train, best_model))"
   ]
  },
  {
   "cell_type": "markdown",
   "metadata": {},
   "source": [
    "Plot loss curves"
   ]
  },
  {
   "cell_type": "code",
   "execution_count": 37,
   "metadata": {},
   "outputs": [
    {
     "data": {
      "image/png": "[encoded data removed]",
      "text/plain": [
       "<matplotlib.figure.Figure at 0x7fbea0329400>"
      ]
     },
     "metadata": {},
     "output_type": "display_data"
    }
   ],
   "source": [
    "plot_loss_data(plotting_data, title_str=\"Hyperparameter tuning for Squeezenet\")"
   ]
  },
  {
   "cell_type": "code",
   "execution_count": null,
   "metadata": {},
   "outputs": [],
   "source": []
  }
 ],
 "metadata": {
  "kernelspec": {
   "display_name": "Python 3",
   "language": "python",
   "name": "python3"
  },
  "language_info": {
   "codemirror_mode": {
    "name": "ipython",
    "version": 3
   },
   "file_extension": ".py",
   "mimetype": "text/x-python",
   "name": "python",
   "nbconvert_exporter": "python",
   "pygments_lexer": "ipython3",
   "version": "3.6.4"
  }
 },
 "nbformat": 4,
 "nbformat_minor": 2
}
